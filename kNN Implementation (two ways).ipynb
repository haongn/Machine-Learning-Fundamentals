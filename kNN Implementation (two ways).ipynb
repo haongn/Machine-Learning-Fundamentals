{
 "cells": [
  {
   "cell_type": "markdown",
   "id": "925f959d",
   "metadata": {},
   "source": [
    "Trong notebook này, ta sẽ trình bày hai cách khác nhau để viết hàm kNN, và so sánh tốc độ thực thi giữa chúng."
   ]
  },
  {
   "cell_type": "markdown",
   "id": "bc9c0fb8",
   "metadata": {},
   "source": [
    "### Bước 1: Chuẩn bị "
   ]
  },
  {
   "cell_type": "markdown",
   "id": "b61d4a67",
   "metadata": {},
   "source": [
    "Trước tiên, sẽ là hàm tính khoảng cách từ một điểm đến từng điểm trong một tập hợp."
   ]
  },
  {
   "cell_type": "code",
   "execution_count": 2,
   "id": "519b462b",
   "metadata": {},
   "outputs": [],
   "source": [
    "import numpy as np\n",
    "from time import time     # for comparing running time "
   ]
  },
  {
   "cell_type": "markdown",
   "id": "d6fc3f15",
   "metadata": {},
   "source": [
    "Lưu ý: Các điểm dữ liệu (quan sát) được sắp xếp theo các hàng, suy ra số hàng là số điểm dữ liệu, số cột là số feature của dữ liệu."
   ]
  },
  {
   "cell_type": "code",
   "execution_count": 3,
   "id": "5f98b25b",
   "metadata": {},
   "outputs": [],
   "source": [
    "d, N = 1000, 10000           # dimension - feature (1000 - row), number of training points (10000 - column)\n",
    "X = np.random.rand(N, d)     # N d-dimensional points (N x d matrix)\n",
    "z = np.random.rand(d)"
   ]
  },
  {
   "cell_type": "markdown",
   "id": "6bc2b407",
   "metadata": {},
   "source": [
    "#### 1. Hàm tính bình phương khoảng cách Euclide giữa z và x "
   ]
  },
  {
   "cell_type": "code",
   "execution_count": 4,
   "id": "b49b3488",
   "metadata": {},
   "outputs": [],
   "source": [
    "# naively compute square distance between two vectors \n",
    "def dist_pp(z, x): \n",
    "    d = z - x.reshape(z.shape)    # force z and x to have the same dimensions (not necessary)\n",
    "    return np.sum(d * d)          # square distance "
   ]
  },
  {
   "cell_type": "markdown",
   "id": "0436a412",
   "metadata": {},
   "source": [
    "#### 2.1. Hàm tính bình phương khoảng cách giữa z và mỗi hàng của X (naive)"
   ]
  },
  {
   "cell_type": "code",
   "execution_count": 9,
   "id": "eae829e6",
   "metadata": {},
   "outputs": [],
   "source": [
    "# from one point to each point in a set, naive \n",
    "def dist_ps_naive(z, x): \n",
    "    \"\"\"Distance from one point to (each point in) a set, normally computed.\n",
    "    \"\"\"\n",
    "    N = X.shape[0]                 # get the number of rows of X (number of points/observations)\n",
    "    res = np.zeros((1, N))         # create a 1 x N zeros matrix to obtain distances \n",
    "    \n",
    "    for i in range(N): \n",
    "        res[0][i] = dist_pp(z, X[i])\n",
    "    \n",
    "    return res "
   ]
  },
  {
   "cell_type": "markdown",
   "id": "15792582",
   "metadata": {},
   "source": [
    "#### 2.2. Tính bình phương khoảng cách giữa z và mỗi hàng của X (nhanh)"
   ]
  },
  {
   "cell_type": "markdown",
   "id": "3a5a03b8",
   "metadata": {},
   "source": [
    "Ta dựa vào công thức sau: \n",
    "\\begin{equation}\n",
    "\\lVert \\mathbf{z} - \\mathbf{x}_i \\rVert_{2}^{2} = (\\mathbf{z} - \\mathbf{x}_i)^T(\\mathbf{z} - \\mathbf{x}_i) = \\lVert \\mathbf{z} \\rVert_{2}^{2} + \\lVert \\mathbf{x}_i \\rVert_{2}^{2} - 2\\mathbf{x}_{i}^T\\mathbf{z} \\quad \\quad (1)\n",
    "\\end{equation}"
   ]
  },
  {
   "cell_type": "markdown",
   "id": "3c9fc55d",
   "metadata": {},
   "source": [
    "Từ công thức trên, vì z cố định, nên chỉ cần tính số hạng thứ hai và thứ ba là được. Ngoài ra, số hạng thứ hai có thể được tính toán và lưu trữ từ trước."
   ]
  },
  {
   "cell_type": "code",
   "execution_count": 10,
   "id": "0c9902dd",
   "metadata": {},
   "outputs": [],
   "source": [
    "# from one point to each point in a set, fast (vectorization + broadcasting)\n",
    "def dist_ps_fast(z, X): \n",
    "    \"\"\"Distance from one point to (each point in) a set, fast computed.\n",
    "    \"\"\"\n",
    "    X2 = np.sum(X*X, 1)  # (vectorization) square of l2 norm of each X[i], can be precomputed \n",
    "                         # (lay tong cua tung hang cua MT) => tra ve mot vector hang \n",
    "    z2 = np.sum(z*z)     # square of l2 norm of z \n",
    "    return X2 + z2 - 2*X.dot(z)    # z2 can be ignored "
   ]
  },
  {
   "cell_type": "markdown",
   "id": "772b1122",
   "metadata": {},
   "source": [
    "So sánh thời gian chạy giữa hàm 2.1 và hàm 2.2:"
   ]
  },
  {
   "cell_type": "code",
   "execution_count": 8,
   "id": "b506def2",
   "metadata": {},
   "outputs": [
    {
     "name": "stdout",
     "output_type": "stream",
     "text": [
      "naive point2set, running time: 0.21126461029052734 s\n",
      "fast point2set , running time: 0.5729484558105469 s\n",
      "Result difference: 1.0129738073044617e-11\n"
     ]
    }
   ],
   "source": [
    "t1 = time()\n",
    "D1 = dist_ps_naive(z, X)\n",
    "print('naive point2set, running time:', time() - t1, 's')\n",
    "\n",
    "t1 = time()\n",
    "D2 = dist_ps_fast(z, X)\n",
    "print('fast point2set , running time:', time() - t1, 's')\n",
    "print('Result difference:', np.linalg.norm(D1 - D2))    # sai so sinh ra tu dau nhi???"
   ]
  },
  {
   "cell_type": "code",
   "execution_count": 11,
   "id": "8bffdf41",
   "metadata": {},
   "outputs": [
    {
     "data": {
      "text/plain": [
       "array([[165.55245599, 163.95764607, 162.23317194, ..., 174.01198993,\n",
       "        175.49877341, 161.27242551]])"
      ]
     },
     "execution_count": 11,
     "metadata": {},
     "output_type": "execute_result"
    }
   ],
   "source": [
    "D1"
   ]
  },
  {
   "cell_type": "code",
   "execution_count": 12,
   "id": "5a3715e9",
   "metadata": {},
   "outputs": [
    {
     "data": {
      "text/plain": [
       "array([165.55245599, 163.95764607, 162.23317194, ..., 174.01198993,\n",
       "       175.49877341, 161.27242551])"
      ]
     },
     "execution_count": 12,
     "metadata": {},
     "output_type": "execute_result"
    }
   ],
   "source": [
    "D2"
   ]
  },
  {
   "cell_type": "markdown",
   "id": "b5683258",
   "metadata": {},
   "source": [
    "Nhận xét: Kết quả chỉ ra rằng hàm dist_ps_fast(z, X) chạy nhanh hơn gần gấp đôi so với\n",
    "hàm dist_ps_naive(z, X).  Tỉ lệ này còn lớn hơn khi kích thước dữ liệu tăng lên\n",
    "và X2 được tính từ trước."
   ]
  },
  {
   "cell_type": "markdown",
   "id": "b7e58dbb",
   "metadata": {},
   "source": [
    "#### 3. Cải tiến thuật toán "
   ]
  },
  {
   "cell_type": "code",
   "execution_count": 14,
   "id": "cb46455b",
   "metadata": {},
   "outputs": [],
   "source": [
    "# naively compute square distance between two vectors \n",
    "def dist_pp2(z, x): \n",
    "    d = z - x                     # force z and x to have the same dimensions\n",
    "    return np.sum(d * d)          # square distance "
   ]
  },
  {
   "cell_type": "code",
   "execution_count": 15,
   "id": "0e5788ca",
   "metadata": {},
   "outputs": [],
   "source": [
    "# from one point to each point in a set, naive \n",
    "def dist_ps_naive2(z, x): \n",
    "    N = X.shape[0]                 # get the number of rows of X (number of points/observations)\n",
    "    res = np.zeros(N)              # create a zeros vector (row vector)\n",
    "    \n",
    "    for i in range(N): \n",
    "        res[i] = dist_pp2(z, X[i])\n",
    "    \n",
    "    return res "
   ]
  },
  {
   "cell_type": "code",
   "execution_count": 16,
   "id": "b4613f02",
   "metadata": {},
   "outputs": [
    {
     "name": "stdout",
     "output_type": "stream",
     "text": [
      "naive point2set, running time: 0.09784197807312012 s\n"
     ]
    }
   ],
   "source": [
    "t1 = time()\n",
    "D3 = dist_ps_naive2(z, X)\n",
    "print('naive point2set, running time:', time() - t1, 's')"
   ]
  },
  {
   "cell_type": "code",
   "execution_count": 17,
   "id": "f6add8d6",
   "metadata": {},
   "outputs": [
    {
     "data": {
      "text/plain": [
       "array([[ True,  True,  True, ...,  True,  True,  True]])"
      ]
     },
     "execution_count": 17,
     "metadata": {},
     "output_type": "execute_result"
    }
   ],
   "source": [
    "D1 == D3  # kiem tra xem hai thuat toan co ra ket qua giong nhau kh"
   ]
  },
  {
   "cell_type": "markdown",
   "id": "a963766e",
   "metadata": {},
   "source": [
    "### Bước 2: Thực hiện thuật toán kNN"
   ]
  },
  {
   "cell_type": "markdown",
   "id": "ab2a62e7",
   "metadata": {},
   "source": [
    "#### C1: Cách đơn giản nhất:"
   ]
  },
  {
   "cell_type": "markdown",
   "id": "90b0dd97",
   "metadata": {},
   "source": [
    "Ý tưởng: Lấy từng điểm trong tập thứ nhất, tính khoảng cách từ điểm này đến tất cả các điểm trong tập thứ hai (sử dụng hàm khoảng cách thông thường)."
   ]
  },
  {
   "cell_type": "markdown",
   "id": "9dba2382",
   "metadata": {},
   "source": [
    "Sử dụng một vòng\n",
    "for tính khoảng cách từ từng điểm trong tập thứ nhất đến tất cả các điểm trong\n",
    "tập thứ hai thông qua hàm **dist_ps_fast(z, X)** ở trên. "
   ]
  },
  {
   "cell_type": "code",
   "execution_count": 4,
   "id": "10d72398",
   "metadata": {},
   "outputs": [],
   "source": [
    "import numpy as np \n",
    "from time import time "
   ]
  },
  {
   "cell_type": "code",
   "execution_count": 2,
   "id": "f62fa5f0",
   "metadata": {},
   "outputs": [],
   "source": [
    "# from one point to each point in a set, fast \n",
    "def dist_ps_fast(z, X): \n",
    "    X2 = np.sum(X*X, 1)  # (vectorization) square of l2 norm of each X[i], can be precomputed \n",
    "                         # (lay tong cua tung hang cua MT) \n",
    "    z2 = np.sum(z*z)     # square of l2 norm of z \n",
    "    return X2 + z2 - 2*X.dot(z)    # z2 can be ignored "
   ]
  },
  {
   "cell_type": "code",
   "execution_count": 6,
   "id": "778c2d30",
   "metadata": {},
   "outputs": [],
   "source": [
    "d, N = 1000, 10000            # dimension - feature (1000 - row), number of training points (10000 - column)\n",
    "X = np.random.rand(N, d)      # N d-dimensional points (N x d matrix)\n",
    "Z = np.random.randn(100, d)   # 100 diem DL d chieu    (100 x d matrix)"
   ]
  },
  {
   "cell_type": "code",
   "execution_count": 7,
   "id": "ab79362e",
   "metadata": {},
   "outputs": [],
   "source": [
    "# from each point in one set to each point in another set, half fast \n",
    "def dist_ss_0(Z, X): \n",
    "    \"\"\"Distance from (each point in) one set to (each point in) another set, normally computed.\n",
    "    \"\"\"\n",
    "    M, N = Z.shape[0], X.shape[0]    # get the number of data points in each set (M = 100, N = N)\n",
    "    res = np.zeros((M, N))           # create a M x N (100 x N) matrix to contain distance \n",
    "                                     # ptu (i, j) la kcach tu diem thu i (cua Z) den diem thu j (cua N)\n",
    "    for i in range(M):               # lap qua cac diem o tap Z\n",
    "        res[i] = dist_ps_fast(Z[i], X)\n",
    "    \n",
    "    return res "
   ]
  },
  {
   "cell_type": "markdown",
   "id": "d3aafb0b",
   "metadata": {},
   "source": [
    "#### Cách 2: Sử dụng công thức tính khoảng cách ở dưới "
   ]
  },
  {
   "cell_type": "markdown",
   "id": "252305bd",
   "metadata": {},
   "source": [
    "\\begin{equation}\n",
    "\\lVert \\mathbf{z} - \\mathbf{x}_i \\rVert_{2}^{2} = (\\mathbf{z} - \\mathbf{x}_i)^T(\\mathbf{z} - \\mathbf{x}_i) = \\lVert \\mathbf{z} \\rVert_{2}^{2} + \\lVert \\mathbf{x}_i \\rVert_{2}^{2} - 2\\mathbf{x}_{i}^T\\mathbf{z} \\quad \\quad (1)\n",
    "\\end{equation}"
   ]
  },
  {
   "cell_type": "code",
   "execution_count": 8,
   "id": "43f28ef9",
   "metadata": {},
   "outputs": [],
   "source": [
    "# from each point in one set to each point in another set, fast (vectorization + broadcasting)\n",
    "def dist_ss_fast(Z, x):\n",
    "    \"\"\"Distance from (each point in) one set to (each point in) another set, fast computed.\n",
    "    \"\"\"\n",
    "    X2 = np.sum(X*X, 1)     # square of l2 norm of each ROW of X \n",
    "    Z2 = np.sum(Z*Z, 1)     # square of l2 norm of each ROW of Z\n",
    "    return Z2.reshape(-1, 1) + X2.reshape(1, -1) - 2*Z.dot(X.T)    # vector cột + vector hàng + ma trận "
   ]
  },
  {
   "cell_type": "markdown",
   "id": "f8239422",
   "metadata": {},
   "source": [
    "So sánh kết quả của hai hàm:"
   ]
  },
  {
   "cell_type": "code",
   "execution_count": 9,
   "id": "af560540",
   "metadata": {},
   "outputs": [
    {
     "name": "stdout",
     "output_type": "stream",
     "text": [
      "half fast set2set running time: 4.805836915969849 s\n",
      "fast set2set running time 0.26488399505615234 s\n",
      "Result difference: 6.173352312305638e-11\n"
     ]
    }
   ],
   "source": [
    "t1 = time()\n",
    "D3 = dist_ss_0(Z, X)\n",
    "print('half fast set2set running time:', time() - t1, 's')\n",
    "\n",
    "t1 = time()\n",
    "D4 = dist_ss_fast(Z, X)\n",
    "print('fast set2set running time', time() - t1, 's')\n",
    "print('Result difference:', np.linalg.norm(D3 - D4))"
   ]
  },
  {
   "cell_type": "markdown",
   "id": "65f07b4f",
   "metadata": {},
   "source": [
    "Nhận xét: Với lượng dữ liệu lớn thì vectorization + broadcasting sẽ cho kết quả nhanh hơn nhiều."
   ]
  }
 ],
 "metadata": {
  "kernelspec": {
   "display_name": "Python 3 (ipykernel)",
   "language": "python",
   "name": "python3"
  },
  "language_info": {
   "codemirror_mode": {
    "name": "ipython",
    "version": 3
   },
   "file_extension": ".py",
   "mimetype": "text/x-python",
   "name": "python",
   "nbconvert_exporter": "python",
   "pygments_lexer": "ipython3",
   "version": "3.8.3"
  }
 },
 "nbformat": 4,
 "nbformat_minor": 5
}
