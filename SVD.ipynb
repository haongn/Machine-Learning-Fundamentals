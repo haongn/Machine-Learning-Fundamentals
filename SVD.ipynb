{
 "cells": [
  {
   "cell_type": "code",
   "execution_count": 7,
   "id": "051135fd",
   "metadata": {},
   "outputs": [],
   "source": [
    "import numpy as np \n",
    "from numpy import linalg as LA"
   ]
  },
  {
   "cell_type": "code",
   "execution_count": 8,
   "id": "cf1a457e",
   "metadata": {},
   "outputs": [
    {
     "name": "stdout",
     "output_type": "stream",
     "text": [
      "Frobenius norm of (UU^T - I) = 4.298317272824426e-16\n",
      "S =  [1.85835603 0.4991149  0.22304087]\n",
      "Frobenius norm of (VV^T - I) = 1.2036231047518088e-15\n"
     ]
    }
   ],
   "source": [
    "m, n = 3, 4 \n",
    "A = np.random.rand(m, n)\n",
    "U, S, V = LA.svd(A)    # A = U*S*V (no V transpose here - biến V trả về là V^T)\n",
    "\n",
    "# checking if U, V are orthogonal and S is a diagonal matrix with \n",
    "# nonnegative decreasing elements \n",
    "print('Frobenius norm of (UU^T - I) =', LA.norm(U.dot(U.T) - np.eye(m)))\n",
    "print('S = ', S)\n",
    "print('Frobenius norm of (VV^T - I) =', LA.norm(V.dot(V.T) - np.eye(n)))"
   ]
  },
  {
   "cell_type": "code",
   "execution_count": null,
   "id": "1a8c183e",
   "metadata": {},
   "outputs": [],
   "source": []
  }
 ],
 "metadata": {
  "kernelspec": {
   "display_name": "Python 3 (ipykernel)",
   "language": "python",
   "name": "python3"
  },
  "language_info": {
   "codemirror_mode": {
    "name": "ipython",
    "version": 3
   },
   "file_extension": ".py",
   "mimetype": "text/x-python",
   "name": "python",
   "nbconvert_exporter": "python",
   "pygments_lexer": "ipython3",
   "version": "3.8.3"
  }
 },
 "nbformat": 4,
 "nbformat_minor": 5
}
