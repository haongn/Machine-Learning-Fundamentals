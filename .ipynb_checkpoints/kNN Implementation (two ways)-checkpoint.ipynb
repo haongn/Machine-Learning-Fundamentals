{
 "cells": [
  {
   "cell_type": "markdown",
   "id": "e975466a",
   "metadata": {},
   "source": [
    "### 1. "
   ]
  },
  {
   "cell_type": "markdown",
   "id": "ab2a62e7",
   "metadata": {},
   "source": [
    "### C1: Lap tung diem trong tap hop thu nhat, voi tinh khoang cach tu diem nay den tat ca cac diem trong tap hop thu hai (su dung ham khoang cach thong thuong)"
   ]
  },
  {
   "cell_type": "markdown",
   "id": "9dba2382",
   "metadata": {},
   "source": [
    "Sử dụng một vòng\n",
    "for tính khoảng cách từ từng điểm trong tập thứ nhất đến tất cả các điểm trong\n",
    "tập thứ hai thông qua hàm **dist_ps_fast(z, X)** ở trên. "
   ]
  },
  {
   "cell_type": "code",
   "execution_count": 4,
   "id": "10d72398",
   "metadata": {},
   "outputs": [],
   "source": [
    "import numpy as np \n",
    "from time import time "
   ]
  },
  {
   "cell_type": "code",
   "execution_count": 2,
   "id": "f62fa5f0",
   "metadata": {},
   "outputs": [],
   "source": [
    "# from one point to each point in a set, fast \n",
    "def dist_ps_fast(z, X): \n",
    "    X2 = np.sum(X*X, 1)  # (vectorization) square of l2 norm of each X[i], can be precomputed \n",
    "                         # (lay tong cua tung hang cua MT) \n",
    "    z2 = np.sum(z*z)     # square of l2 norm of z \n",
    "    return X2 + z2 - 2*X.dot(z)    # z2 can be ignored "
   ]
  },
  {
   "cell_type": "code",
   "execution_count": 6,
   "id": "778c2d30",
   "metadata": {},
   "outputs": [],
   "source": [
    "d, N = 1000, 10000            # dimension - feature (1000 - row), number of training points (10000 - column)\n",
    "X = np.random.rand(N, d)      # N d-dimensional points \n",
    "Z = np.random.randn(100, d)   # 100 diem DL d chieu "
   ]
  },
  {
   "cell_type": "code",
   "execution_count": 7,
   "id": "ab79362e",
   "metadata": {},
   "outputs": [],
   "source": [
    "# from each point in one set to each point in another set, half fast \n",
    "def dist_ss_0(Z, X): \n",
    "    M, N = Z.shape[0], X.shape[0]    # get the number of data points in each set (M = 100, N = N)\n",
    "    res = np.zeros((M, N))           # create a M x N (100 x N) matrix to contain distance \n",
    "                                     # ptu (i, j) la kcach tu diem thu i (cua Z) den diem thu j (cua N)\n",
    "    for i in range(M):               # lap qua cac diem o tap Z\n",
    "        res[i] = dist_ps_fast(Z[i], X)\n",
    "    \n",
    "    return res "
   ]
  },
  {
   "cell_type": "markdown",
   "id": "d3aafb0b",
   "metadata": {},
   "source": [
    "### C2: "
   ]
  },
  {
   "cell_type": "code",
   "execution_count": 8,
   "id": "43f28ef9",
   "metadata": {},
   "outputs": [],
   "source": [
    "# from each point in one set to each point in another set, fast (vectorization + broadcasting)\n",
    "def dist_ss_fast(Z, x): \n",
    "    X2 = np.sum(X*X, 1)     # square of l2 norm of each ROW of X \n",
    "    Z2 = np.sum(Z*Z, 1)     # square of l2 norm of each ROW of Z\n",
    "    return Z2.reshape(-1, 1) + X2.reshape(1, -1) - 2*Z.dot(X.T)"
   ]
  },
  {
   "cell_type": "markdown",
   "id": "f8239422",
   "metadata": {},
   "source": [
    "### 2. So sanh ket qua cua hai ham: "
   ]
  },
  {
   "cell_type": "code",
   "execution_count": 9,
   "id": "af560540",
   "metadata": {},
   "outputs": [
    {
     "name": "stdout",
     "output_type": "stream",
     "text": [
      "half fast set2set running time: 4.805836915969849 s\n",
      "fast set2set running time 0.26488399505615234 s\n",
      "Result difference: 6.173352312305638e-11\n"
     ]
    }
   ],
   "source": [
    "t1 = time()\n",
    "D3 = dist_ss_0(Z, X)\n",
    "print('half fast set2set running time:', time() - t1, 's')\n",
    "\n",
    "t1 = time()\n",
    "D4 = dist_ss_fast(Z, X)\n",
    "print('fast set2set running time', time() - t1, 's')\n",
    "print('Result difference:', np.linalg.norm(D3 - D4))"
   ]
  },
  {
   "cell_type": "markdown",
   "id": "4d5070a9",
   "metadata": {},
   "source": [
    "Nhan xet: Voi luong DL lon thi vectorization + broadcasting se cho ket qua nhanh hon nhieu. "
   ]
  },
  {
   "cell_type": "code",
   "execution_count": 10,
   "id": "d0985f80",
   "metadata": {},
   "outputs": [],
   "source": [
    "a = np.array([[1, 2, 3, 4],    \n",
    "     [5, 6, 7, 8], \n",
    "     [2, 3, 4, 5]])"
   ]
  },
  {
   "cell_type": "code",
   "execution_count": 11,
   "id": "a65309bb",
   "metadata": {},
   "outputs": [
    {
     "data": {
      "text/plain": [
       "array([[1],\n",
       "       [2],\n",
       "       [3],\n",
       "       [4],\n",
       "       [5],\n",
       "       [6],\n",
       "       [7],\n",
       "       [8],\n",
       "       [2],\n",
       "       [3],\n",
       "       [4],\n",
       "       [5]])"
      ]
     },
     "execution_count": 11,
     "metadata": {},
     "output_type": "execute_result"
    }
   ],
   "source": [
    "a.reshape(-1, 1)   # N x 1 vector "
   ]
  },
  {
   "cell_type": "code",
   "execution_count": 12,
   "id": "a3bbb1f1",
   "metadata": {},
   "outputs": [
    {
     "data": {
      "text/plain": [
       "array([[1, 2, 3, 4, 5, 6, 7, 8, 2, 3, 4, 5]])"
      ]
     },
     "execution_count": 12,
     "metadata": {},
     "output_type": "execute_result"
    }
   ],
   "source": [
    "a.reshape(1, -1)    # 1 x N vector "
   ]
  },
  {
   "cell_type": "code",
   "execution_count": 13,
   "id": "30461897",
   "metadata": {},
   "outputs": [
    {
     "data": {
      "text/plain": [
       "array([[ 2,  3,  4,  5,  6,  7,  8,  9,  3,  4,  5,  6],\n",
       "       [ 3,  4,  5,  6,  7,  8,  9, 10,  4,  5,  6,  7],\n",
       "       [ 4,  5,  6,  7,  8,  9, 10, 11,  5,  6,  7,  8],\n",
       "       [ 5,  6,  7,  8,  9, 10, 11, 12,  6,  7,  8,  9],\n",
       "       [ 6,  7,  8,  9, 10, 11, 12, 13,  7,  8,  9, 10],\n",
       "       [ 7,  8,  9, 10, 11, 12, 13, 14,  8,  9, 10, 11],\n",
       "       [ 8,  9, 10, 11, 12, 13, 14, 15,  9, 10, 11, 12],\n",
       "       [ 9, 10, 11, 12, 13, 14, 15, 16, 10, 11, 12, 13],\n",
       "       [ 3,  4,  5,  6,  7,  8,  9, 10,  4,  5,  6,  7],\n",
       "       [ 4,  5,  6,  7,  8,  9, 10, 11,  5,  6,  7,  8],\n",
       "       [ 5,  6,  7,  8,  9, 10, 11, 12,  6,  7,  8,  9],\n",
       "       [ 6,  7,  8,  9, 10, 11, 12, 13,  7,  8,  9, 10]])"
      ]
     },
     "execution_count": 13,
     "metadata": {},
     "output_type": "execute_result"
    }
   ],
   "source": [
    "a.reshape(-1, 1) + a.reshape(1, -1)     # tung hang ptu cot cua A cong voi tat ca ptu hang cua B "
   ]
  },
  {
   "cell_type": "code",
   "execution_count": null,
   "id": "934d4f21",
   "metadata": {},
   "outputs": [],
   "source": []
  }
 ],
 "metadata": {
  "kernelspec": {
   "display_name": "Python 3 (ipykernel)",
   "language": "python",
   "name": "python3"
  },
  "language_info": {
   "codemirror_mode": {
    "name": "ipython",
    "version": 3
   },
   "file_extension": ".py",
   "mimetype": "text/x-python",
   "name": "python",
   "nbconvert_exporter": "python",
   "pygments_lexer": "ipython3",
   "version": "3.8.3"
  }
 },
 "nbformat": 4,
 "nbformat_minor": 5
}
