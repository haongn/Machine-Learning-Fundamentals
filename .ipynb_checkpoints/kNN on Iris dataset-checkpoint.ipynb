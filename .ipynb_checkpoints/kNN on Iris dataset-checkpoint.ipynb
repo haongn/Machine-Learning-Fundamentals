{
 "cells": [
  {
   "cell_type": "markdown",
   "id": "2d432de7",
   "metadata": {},
   "source": [
    "### 1. Import DL "
   ]
  },
  {
   "cell_type": "code",
   "execution_count": 1,
   "id": "6f7cfcc7",
   "metadata": {},
   "outputs": [],
   "source": [
    "import numpy as np \n",
    "from sklearn import neighbors, datasets \n",
    "from sklearn.model_selection import train_test_split     # for splitting data \n",
    "from sklearn.metrics import accuracy_score               # for evaluating results "
   ]
  },
  {
   "cell_type": "code",
   "execution_count": 4,
   "id": "c4112fee",
   "metadata": {},
   "outputs": [],
   "source": [
    "iris = datasets.load_iris() \n",
    "iris_X = iris.data      # a 150 x 4 matrix (150 points, 4 features) \n",
    "iris_y = iris.target "
   ]
  },
  {
   "cell_type": "code",
   "execution_count": 8,
   "id": "c9dc3512",
   "metadata": {},
   "outputs": [
    {
     "data": {
      "text/plain": [
       "(150, 4)"
      ]
     },
     "execution_count": 8,
     "metadata": {},
     "output_type": "execute_result"
    }
   ],
   "source": [
    "iris_X.shape"
   ]
  },
  {
   "cell_type": "markdown",
   "id": "7229a46a",
   "metadata": {},
   "source": [
    "Tiếp theo, 20 mẫu dữ liệu được lấy ra ngẫu nhiên tạo thành tập huấn luyện, 130\n",
    "mẫu còn lại được dùng để kiểm tra."
   ]
  },
  {
   "cell_type": "code",
   "execution_count": 7,
   "id": "c2367086",
   "metadata": {},
   "outputs": [
    {
     "name": "stdout",
     "output_type": "stream",
     "text": [
      "Labels: [0 1 2]\n",
      "Training size: 20 ,test size: 130\n"
     ]
    }
   ],
   "source": [
    "print('Labels:', np.unique(iris_y))\n",
    "\n",
    "# split train and test \n",
    "np.random.seed(7)\n",
    "X_train, X_test, y_train, y_test = train_test_split(iris_X, iris_y, test_size = 130)\n",
    "\n",
    "print('Training size:', X_train.shape[0], ',test size:', X_test.shape[0])"
   ]
  },
  {
   "cell_type": "markdown",
   "id": "f1d706c5",
   "metadata": {},
   "source": [
    "### 2.1. Kết quả với 1NN"
   ]
  },
  {
   "cell_type": "markdown",
   "id": "25f0ae49",
   "metadata": {},
   "source": [
    "Tới đây, ta trực tiếp sử dụng thư viện scikit-learn cho KNN. Xét ví dụ đầu tiên\n",
    "với K = 1."
   ]
  },
  {
   "cell_type": "code",
   "execution_count": 9,
   "id": "edd9e530",
   "metadata": {},
   "outputs": [
    {
     "name": "stdout",
     "output_type": "stream",
     "text": [
      "Accuracy of 1NN: 92.31 %\n"
     ]
    }
   ],
   "source": [
    "model = neighbors.KNeighborsClassifier(n_neighbors = 1, p = 2)   # l2 norm \n",
    "\n",
    "model.fit(X_train, y_train)          # fit the training data \n",
    "y_pred = model.predict(X_test)       # predict the test data \n",
    "\n",
    "print(\"Accuracy of 1NN: %.2f %%\" %(100 * accuracy_score(y_test, y_pred)))  # ti le y_pred / y_test "
   ]
  },
  {
   "cell_type": "markdown",
   "id": "dc49fc18",
   "metadata": {},
   "source": [
    "### 2.2. Kết quả với 7NN"
   ]
  },
  {
   "cell_type": "code",
   "execution_count": 10,
   "id": "db1ca4ac",
   "metadata": {},
   "outputs": [
    {
     "name": "stdout",
     "output_type": "stream",
     "text": [
      "Accuracy of 7NN with major voting: 93.85 %\n"
     ]
    }
   ],
   "source": [
    "model = neighbors.KNeighborsClassifier(n_neighbors = 7, p = 2)\n",
    "\n",
    "model.fit(X_train, y_train)\n",
    "y_pred = model.predict(X_test)\n",
    "\n",
    "print(\"Accuracy of 7NN with major voting: %.2f %%\"\\      # bau chon da so (major voting)\n",
    "       % (100 * accuracy_score(y_test, y_pred)))"
   ]
  },
  {
   "cell_type": "markdown",
   "id": "eb0aace7",
   "metadata": {},
   "source": [
    "### 3. Đánh trọng số cho các điểm lân cận"
   ]
  },
  {
   "cell_type": "code",
   "execution_count": 11,
   "id": "e3e522fb",
   "metadata": {},
   "outputs": [
    {
     "name": "stdout",
     "output_type": "stream",
     "text": [
      "Accuracy of 7NN (1/distance weights): 94.62 %\n"
     ]
    }
   ],
   "source": [
    "model = neighbors.KNeighborsClassifier(n_neighbors = 7, p = 2, weights = 'distance')\n",
    "\n",
    "model.fit(X_train, y_train)\n",
    "y_pred = model.predict(X_test)\n",
    "\n",
    "print(\"Accuracy of 7NN (1/distance weights): %.2f %%\" % (100 * accuracy_score(y_test, y_pred)))"
   ]
  },
  {
   "cell_type": "markdown",
   "id": "36c29a9e",
   "metadata": {},
   "source": [
    "### 4. KNN với trọng số tự định nghĩa"
   ]
  },
  {
   "cell_type": "markdown",
   "id": "699d2b24",
   "metadata": {},
   "source": [
    "\\begin{equation}\n",
    "w_i = \\text{exp}\\left( \\frac{\\lVert \\mathbf{z} - \\mathbf{x}_i \\rVert_{2}^{2}}{\\sigma^2}  \\right)\n",
    "\\end{equation} "
   ]
  },
  {
   "cell_type": "code",
   "execution_count": 14,
   "id": "e95f8c74",
   "metadata": {},
   "outputs": [],
   "source": [
    "def myweight(distance): \n",
    "    sigma2 = .4     # we can change this number \n",
    "    return np.exp(-distance**2 / sigma2)"
   ]
  },
  {
   "cell_type": "code",
   "execution_count": 16,
   "id": "20bc94a1",
   "metadata": {},
   "outputs": [
    {
     "name": "stdout",
     "output_type": "stream",
     "text": [
      "Accuracy of 7NN (customized weights): 95.38 %\n"
     ]
    }
   ],
   "source": [
    "model = neighbors.KNeighborsClassifier(n_neighbors = 7, p = 2, weights = myweight)\n",
    "\n",
    "model.fit(X_train, y_train)          # only store X_train data and y_train data \n",
    "y_pred = model.predict(X_test)       \n",
    "\n",
    "print(\"Accuracy of 7NN (customized weights): %.2f %%\" % (100*accuracy_score(y_test, y_pred)))"
   ]
  },
  {
   "cell_type": "code",
   "execution_count": null,
   "id": "a918208f",
   "metadata": {},
   "outputs": [],
   "source": []
  }
 ],
 "metadata": {
  "kernelspec": {
   "display_name": "Python 3 (ipykernel)",
   "language": "python",
   "name": "python3"
  },
  "language_info": {
   "codemirror_mode": {
    "name": "ipython",
    "version": 3
   },
   "file_extension": ".py",
   "mimetype": "text/x-python",
   "name": "python",
   "nbconvert_exporter": "python",
   "pygments_lexer": "ipython3",
   "version": "3.8.3"
  }
 },
 "nbformat": 4,
 "nbformat_minor": 5
}
