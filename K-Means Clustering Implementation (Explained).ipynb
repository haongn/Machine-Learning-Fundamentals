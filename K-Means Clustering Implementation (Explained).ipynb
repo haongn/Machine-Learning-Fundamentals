{
 "cells": [
  {
   "cell_type": "code",
   "execution_count": 1,
   "id": "14f693e4",
   "metadata": {},
   "outputs": [],
   "source": [
    "import numpy as np\n",
    "import matplotlib.pyplot as plt \n",
    "import seaborn as sns; sns.set()\n",
    "from scipy.spatial.distance import cdist\n",
    "import random \n",
    "\n",
    "np.random.seed(11)"
   ]
  },
  {
   "cell_type": "code",
   "execution_count": 2,
   "id": "e0f1fe4a",
   "metadata": {},
   "outputs": [],
   "source": [
    "means = [[2, 2], \n",
    "         [8, 3], \n",
    "         [3, 6]]\n",
    "cov = [[1, 0], \n",
    "       [0, 1]]\n",
    "\n",
    "N = 5     # số điểm DL \n",
    "\n",
    "X0 = np.random.multivariate_normal(means[0], cov, N)  # sinh N điểm DL hai chiều (MT N x 2)\n",
    "X1 = np.random.multivariate_normal(means[1], cov, N)  # sinh N điểm DL hai chiều (MT N x 2)\n",
    "X2 = np.random.multivariate_normal(means[2], cov, N)  # sinh N điểm DL hai chiều (MT N x 2)\n",
    "\n",
    "X = np.concatenate((X0, X1, X2), axis = 0)    # tạo ma trận đặc trưng (nối theo chiều dọc) (MT 3N x 2)"
   ]
  },
  {
   "cell_type": "code",
   "execution_count": 3,
   "id": "85783d76",
   "metadata": {},
   "outputs": [
    {
     "data": {
      "text/plain": [
       "array([[ 3.74945474,  1.713927  ],\n",
       "       [ 1.51543487, -0.65331856],\n",
       "       [ 1.99171537,  1.68036864],\n",
       "       [ 1.46337064,  2.31540267],\n",
       "       [ 2.42105072,  0.93439702],\n",
       "       [ 7.11376033,  2.52426651],\n",
       "       [ 8.68968231,  3.56119218],\n",
       "       [ 6.69445149,  1.88052474],\n",
       "       [ 8.73683739,  4.57463407],\n",
       "       [ 7.96892491,  2.31655337],\n",
       "       [ 4.0956297 ,  5.69042336],\n",
       "       [ 3.72575222,  7.54907163],\n",
       "       [ 3.63007982,  6.07349324],\n",
       "       [ 3.73227135,  5.35742461],\n",
       "       [ 2.82190682,  5.42604544]])"
      ]
     },
     "execution_count": 3,
     "metadata": {},
     "output_type": "execute_result"
    }
   ],
   "source": [
    "X    # ma trận 15 x 2 "
   ]
  },
  {
   "cell_type": "code",
   "execution_count": 9,
   "id": "9d138713",
   "metadata": {},
   "outputs": [],
   "source": [
    "k = 3   # 3 clusters \n",
    "original_label = np.asarray([0]*N + [1]*N + [2]*N).T     # list concatenation (row vector)"
   ]
  },
  {
   "cell_type": "code",
   "execution_count": 5,
   "id": "52f9a488",
   "metadata": {},
   "outputs": [
    {
     "data": {
      "text/plain": [
       "array([0, 0, 0, 0, 0, 1, 1, 1, 1, 1, 2, 2, 2, 2, 2])"
      ]
     },
     "execution_count": 5,
     "metadata": {},
     "output_type": "execute_result"
    }
   ],
   "source": [
    "original_label"
   ]
  },
  {
   "cell_type": "code",
   "execution_count": 6,
   "id": "0c62c121",
   "metadata": {},
   "outputs": [
    {
     "data": {
      "text/plain": [
       "array([ True,  True,  True,  True,  True, False, False, False, False,\n",
       "       False, False, False, False, False, False])"
      ]
     },
     "execution_count": 6,
     "metadata": {},
     "output_type": "execute_result"
    }
   ],
   "source": [
    "original_label == 0 "
   ]
  },
  {
   "cell_type": "code",
   "execution_count": 7,
   "id": "fa9d104a",
   "metadata": {},
   "outputs": [
    {
     "data": {
      "text/plain": [
       "array([False, False, False, False, False,  True,  True,  True,  True,\n",
       "        True, False, False, False, False, False])"
      ]
     },
     "execution_count": 7,
     "metadata": {},
     "output_type": "execute_result"
    }
   ],
   "source": [
    "original_label == 1"
   ]
  },
  {
   "cell_type": "code",
   "execution_count": 14,
   "id": "ee68b6a3",
   "metadata": {},
   "outputs": [],
   "source": [
    "centroids = X[np.random.choice(X.shape[0], size = k, replace = False)]"
   ]
  },
  {
   "cell_type": "code",
   "execution_count": 15,
   "id": "1e96ade0",
   "metadata": {},
   "outputs": [
    {
     "data": {
      "text/plain": [
       "array([[1.46337064, 2.31540267],\n",
       "       [3.73227135, 5.35742461],\n",
       "       [3.74945474, 1.713927  ]])"
      ]
     },
     "execution_count": 15,
     "metadata": {},
     "output_type": "execute_result"
    }
   ],
   "source": [
    "centroids"
   ]
  },
  {
   "cell_type": "code",
   "execution_count": 16,
   "id": "a1954675",
   "metadata": {},
   "outputs": [
    {
     "data": {
      "text/plain": [
       "array([[2.36388526, 3.64353812, 0.        ],\n",
       "       [2.96917773, 6.40651211, 3.25494952],\n",
       "       [0.82608497, 4.06820301, 1.75805969],\n",
       "       [0.        , 3.7949714 , 2.36388526],\n",
       "       [1.68057363, 4.61329303, 1.54023513],\n",
       "       [5.65424865, 4.41149096, 3.46052051],\n",
       "       [7.33291019, 5.27279569, 5.27429967],\n",
       "       [5.24912618, 4.56764095, 2.94970518],\n",
       "       [7.61626189, 5.0654163 , 5.74957656],\n",
       "       [6.50555438, 5.21499101, 4.2622866 ],\n",
       "       [4.28013463, 0.49286657, 3.9915361 ],\n",
       "       [5.70172441, 2.19165672, 5.83519277],\n",
       "       [4.33795729, 0.72332385, 4.36120031],\n",
       "       [3.7949714 , 0.        , 3.64353812],\n",
       "       [3.39436578, 0.91294709, 3.8262473 ]])"
      ]
     },
     "execution_count": 16,
     "metadata": {},
     "output_type": "execute_result"
    }
   ],
   "source": [
    "cdist(X, centroids)"
   ]
  },
  {
   "cell_type": "markdown",
   "id": "3991834d",
   "metadata": {},
   "source": [
    "np.amax(): Return the maximum of an array or maximum along an axis"
   ]
  },
  {
   "cell_type": "code",
   "execution_count": 17,
   "id": "199dc777",
   "metadata": {},
   "outputs": [
    {
     "data": {
      "text/plain": [
       "array([[ 3.74945474,  1.713927  ],\n",
       "       [ 1.51543487, -0.65331856],\n",
       "       [ 1.99171537,  1.68036864],\n",
       "       [ 1.46337064,  2.31540267],\n",
       "       [ 2.42105072,  0.93439702]])"
      ]
     },
     "execution_count": 17,
     "metadata": {},
     "output_type": "execute_result"
    }
   ],
   "source": [
    "X0"
   ]
  },
  {
   "cell_type": "code",
   "execution_count": 19,
   "id": "53d37ab4",
   "metadata": {},
   "outputs": [
    {
     "data": {
      "text/plain": [
       "3.749454741305179"
      ]
     },
     "execution_count": 19,
     "metadata": {},
     "output_type": "execute_result"
    }
   ],
   "source": [
    "np.amax(X0)    # tìm max của tất cả các phần tử của ma trận "
   ]
  },
  {
   "cell_type": "code",
   "execution_count": 20,
   "id": "25f24bc7",
   "metadata": {},
   "outputs": [
    {
     "data": {
      "text/plain": [
       "array([3.74945474, 2.31540267])"
      ]
     },
     "execution_count": 20,
     "metadata": {},
     "output_type": "execute_result"
    }
   ],
   "source": [
    "np.amax(X0, axis = 0)    # tìm max của từng cột "
   ]
  },
  {
   "cell_type": "code",
   "execution_count": 21,
   "id": "c4e17547",
   "metadata": {},
   "outputs": [
    {
     "data": {
      "text/plain": [
       "array([3.74945474, 1.51543487, 1.99171537, 2.31540267, 2.42105072])"
      ]
     },
     "execution_count": 21,
     "metadata": {},
     "output_type": "execute_result"
    }
   ],
   "source": [
    "np.amax(X0, axis = 1)    # tìm max của từng hàng "
   ]
  },
  {
   "cell_type": "markdown",
   "id": "f0ea9a3a",
   "metadata": {},
   "source": [
    "np.argmin(): Returns the indices of the minimum values along an axis"
   ]
  },
  {
   "cell_type": "code",
   "execution_count": 23,
   "id": "b08a4082",
   "metadata": {},
   "outputs": [
    {
     "data": {
      "text/plain": [
       "array([[ 3.74945474,  1.713927  ],\n",
       "       [ 1.51543487, -0.65331856],\n",
       "       [ 1.99171537,  1.68036864],\n",
       "       [ 1.46337064,  2.31540267],\n",
       "       [ 2.42105072,  0.93439702]])"
      ]
     },
     "execution_count": 23,
     "metadata": {},
     "output_type": "execute_result"
    }
   ],
   "source": [
    "X0"
   ]
  },
  {
   "cell_type": "code",
   "execution_count": 22,
   "id": "4d56b2b6",
   "metadata": {},
   "outputs": [
    {
     "data": {
      "text/plain": [
       "array([1, 1, 1, 0, 1], dtype=int64)"
      ]
     },
     "execution_count": 22,
     "metadata": {},
     "output_type": "execute_result"
    }
   ],
   "source": [
    "np.argmin(X0, axis = 1)   # tìm index min của từng hàng "
   ]
  },
  {
   "cell_type": "code",
   "execution_count": 24,
   "id": "fcdd454f",
   "metadata": {},
   "outputs": [
    {
     "data": {
      "text/plain": [
       "array([3, 1], dtype=int64)"
      ]
     },
     "execution_count": 24,
     "metadata": {},
     "output_type": "execute_result"
    }
   ],
   "source": [
    "np.argmin(X0, axis = 0)   # tìm index min của từng cột "
   ]
  },
  {
   "cell_type": "code",
   "execution_count": 25,
   "id": "e6667b46",
   "metadata": {},
   "outputs": [
    {
     "data": {
      "text/plain": [
       "array([[1.46337064, 2.31540267],\n",
       "       [3.73227135, 5.35742461],\n",
       "       [3.74945474, 1.713927  ]])"
      ]
     },
     "execution_count": 25,
     "metadata": {},
     "output_type": "execute_result"
    }
   ],
   "source": [
    "centroids "
   ]
  },
  {
   "cell_type": "code",
   "execution_count": 26,
   "id": "dc5d39e4",
   "metadata": {},
   "outputs": [
    {
     "data": {
      "text/plain": [
       "{(1.46337063776527, 2.3154026684256968),\n",
       " (3.732271353885255, 5.357424607566646),\n",
       " (3.749454741305179, 1.7139270031837057)}"
      ]
     },
     "execution_count": 26,
     "metadata": {},
     "output_type": "execute_result"
    }
   ],
   "source": [
    "set([tuple(a) for a in centroids])"
   ]
  },
  {
   "cell_type": "code",
   "execution_count": 28,
   "id": "7add12d4",
   "metadata": {},
   "outputs": [
    {
     "data": {
      "text/plain": [
       "array([[ 3.74945474,  1.713927  ],\n",
       "       [ 1.51543487, -0.65331856],\n",
       "       [ 1.99171537,  1.68036864],\n",
       "       [ 1.46337064,  2.31540267],\n",
       "       [ 2.42105072,  0.93439702]])"
      ]
     },
     "execution_count": 28,
     "metadata": {},
     "output_type": "execute_result"
    }
   ],
   "source": [
    "X[original_label == 0, :]"
   ]
  },
  {
   "cell_type": "code",
   "execution_count": 29,
   "id": "af0e291b",
   "metadata": {},
   "outputs": [
    {
     "data": {
      "text/plain": [
       "array([[ 3.74945474,  1.713927  ],\n",
       "       [ 1.51543487, -0.65331856],\n",
       "       [ 1.99171537,  1.68036864],\n",
       "       [ 1.46337064,  2.31540267],\n",
       "       [ 2.42105072,  0.93439702],\n",
       "       [ 7.11376033,  2.52426651],\n",
       "       [ 8.68968231,  3.56119218],\n",
       "       [ 6.69445149,  1.88052474],\n",
       "       [ 8.73683739,  4.57463407],\n",
       "       [ 7.96892491,  2.31655337],\n",
       "       [ 4.0956297 ,  5.69042336],\n",
       "       [ 3.72575222,  7.54907163],\n",
       "       [ 3.63007982,  6.07349324],\n",
       "       [ 3.73227135,  5.35742461],\n",
       "       [ 2.82190682,  5.42604544]])"
      ]
     },
     "execution_count": 29,
     "metadata": {},
     "output_type": "execute_result"
    }
   ],
   "source": [
    "X"
   ]
  },
  {
   "cell_type": "code",
   "execution_count": 30,
   "id": "001b2aed",
   "metadata": {},
   "outputs": [
    {
     "data": {
      "text/plain": [
       "array([4.55668818, 3.39629373])"
      ]
     },
     "execution_count": 30,
     "metadata": {},
     "output_type": "execute_result"
    }
   ],
   "source": [
    "np.mean(X, axis = 0)    "
   ]
  },
  {
   "cell_type": "code",
   "execution_count": 31,
   "id": "637e3ba4",
   "metadata": {},
   "outputs": [
    {
     "data": {
      "text/plain": [
       "array([[1.46337064, 2.31540267],\n",
       "       [3.73227135, 5.35742461],\n",
       "       [3.74945474, 1.713927  ]])"
      ]
     },
     "execution_count": 31,
     "metadata": {},
     "output_type": "execute_result"
    }
   ],
   "source": [
    "centroids"
   ]
  },
  {
   "cell_type": "code",
   "execution_count": 32,
   "id": "b1a18a63",
   "metadata": {},
   "outputs": [
    {
     "data": {
      "text/plain": [
       "array([3.74945474, 1.713927  ])"
      ]
     },
     "execution_count": 32,
     "metadata": {},
     "output_type": "execute_result"
    }
   ],
   "source": [
    "centroids[-1]"
   ]
  },
  {
   "cell_type": "code",
   "execution_count": null,
   "id": "9b8f7aaf",
   "metadata": {},
   "outputs": [],
   "source": []
  }
 ],
 "metadata": {
  "kernelspec": {
   "display_name": "Python 3 (ipykernel)",
   "language": "python",
   "name": "python3"
  },
  "language_info": {
   "codemirror_mode": {
    "name": "ipython",
    "version": 3
   },
   "file_extension": ".py",
   "mimetype": "text/x-python",
   "name": "python",
   "nbconvert_exporter": "python",
   "pygments_lexer": "ipython3",
   "version": "3.8.3"
  }
 },
 "nbformat": 4,
 "nbformat_minor": 5
}
